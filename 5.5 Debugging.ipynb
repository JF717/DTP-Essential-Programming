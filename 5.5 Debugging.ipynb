{
 "cells": [
  {
   "cell_type": "markdown",
   "metadata": {},
   "source": [
    "## Debugging"
   ]
  },
  {
   "cell_type": "markdown",
   "metadata": {},
   "source": [
    "As a bonus we will cover debugging to figure out if you are making a mistake and correct that in your code. Often we will encounter a problem that we cannot figure what is the problem because it looks like it should be working. But doesn't give us the answer we were expecting or any answer.\n",
    "\n",
    "First of all we will look at some of the typical error messages so we can understand what to do about them. \n",
    "\n",
    "In all honestly the real skill in fixing coding problems is about being good at googling. "
   ]
  },
  {
   "cell_type": "code",
   "execution_count": 1,
   "metadata": {},
   "outputs": [],
   "source": [
    "a = 0"
   ]
  },
  {
   "cell_type": "code",
   "execution_count": 10,
   "metadata": {},
   "outputs": [
    {
     "ename": "SyntaxError",
     "evalue": "invalid syntax (<ipython-input-10-3390553213f8>, line 1)",
     "output_type": "error",
     "traceback": [
      "\u001b[1;36m  File \u001b[1;32m\"<ipython-input-10-3390553213f8>\"\u001b[1;36m, line \u001b[1;32m1\u001b[0m\n\u001b[1;33m    while a < 10\u001b[0m\n\u001b[1;37m                ^\u001b[0m\n\u001b[1;31mSyntaxError\u001b[0m\u001b[1;31m:\u001b[0m invalid syntax\n"
     ]
    }
   ],
   "source": [
    "while a < 10\n",
    "a =+ 1"
   ]
  },
  {
   "cell_type": "markdown",
   "metadata": {},
   "source": [
    "This is a very easy one to spot. The invalid syntax error is just telling us that we've not done  used the write symbols or terminology in our command. In this case we have forgotten to add the : at the end of the while statement. One of the nice things about python is it often tells you the line and often the problem with that line. "
   ]
  },
  {
   "cell_type": "code",
   "execution_count": 11,
   "metadata": {},
   "outputs": [
    {
     "ename": "IndentationError",
     "evalue": "expected an indented block (<ipython-input-11-36ed531d93e5>, line 2)",
     "output_type": "error",
     "traceback": [
      "\u001b[1;36m  File \u001b[1;32m\"<ipython-input-11-36ed531d93e5>\"\u001b[1;36m, line \u001b[1;32m2\u001b[0m\n\u001b[1;33m    a += 1\u001b[0m\n\u001b[1;37m    ^\u001b[0m\n\u001b[1;31mIndentationError\u001b[0m\u001b[1;31m:\u001b[0m expected an indented block\n"
     ]
    }
   ],
   "source": [
    "while a<10:\n",
    "a += 1"
   ]
  },
  {
   "cell_type": "markdown",
   "metadata": {},
   "source": [
    "Damn doesn't work still."
   ]
  },
  {
   "cell_type": "markdown",
   "metadata": {},
   "source": [
    "This is a nice easy error to spot. It is telling you that you have forgotten to indent a section after a loop or logical statement etc."
   ]
  },
  {
   "cell_type": "code",
   "execution_count": 13,
   "metadata": {},
   "outputs": [],
   "source": [
    "while a<10:\n",
    "    a += 1"
   ]
  },
  {
   "cell_type": "markdown",
   "metadata": {},
   "source": [
    "There we go it worked. These are two of the most common errors we will find. syntax and indentation. They are generally just silly little mistakes and can be easily fixed when you understand the error message."
   ]
  },
  {
   "cell_type": "markdown",
   "metadata": {},
   "source": [
    "What happens however when we have a loop running and we expect an answer but we are not getting that answer. Well the trick here and we nearly all problems in coding is to be able to use print statements effectively. "
   ]
  },
  {
   "cell_type": "code",
   "execution_count": 30,
   "metadata": {},
   "outputs": [],
   "source": [
    "b = 0\n",
    "req = False"
   ]
  },
  {
   "cell_type": "markdown",
   "metadata": {},
   "source": [
    "here I want a loop that after b reaches 15 changes req to true"
   ]
  },
  {
   "cell_type": "code",
   "execution_count": 31,
   "metadata": {},
   "outputs": [],
   "source": [
    "for i in range(0,25):\n",
    "    b += 1\n",
    "    if a > 15:\n",
    "        req = True\n",
    "    "
   ]
  },
  {
   "cell_type": "code",
   "execution_count": 32,
   "metadata": {},
   "outputs": [
    {
     "data": {
      "text/plain": [
       "False"
      ]
     },
     "execution_count": 32,
     "metadata": {},
     "output_type": "execute_result"
    }
   ],
   "source": [
    "req"
   ]
  },
  {
   "cell_type": "markdown",
   "metadata": {},
   "source": [
    "So while it may seem obvious what we have done here this is a fairly typical problem. Your code has run without any problems but you haven't got the output that you expected. This is where the magical power of print statements come in. We throw in print statements to check what is happening and to test if each part of our function or loop is working.\n",
    "\n",
    "We will start by testing whether the loop is running correctly."
   ]
  },
  {
   "cell_type": "code",
   "execution_count": 35,
   "metadata": {},
   "outputs": [],
   "source": [
    "b = 0\n",
    "req = False"
   ]
  },
  {
   "cell_type": "code",
   "execution_count": 34,
   "metadata": {},
   "outputs": [
    {
     "name": "stdout",
     "output_type": "stream",
     "text": [
      "0\n",
      "1\n",
      "2\n",
      "3\n",
      "4\n",
      "5\n",
      "6\n",
      "7\n",
      "8\n",
      "9\n",
      "10\n",
      "11\n",
      "12\n",
      "13\n",
      "14\n",
      "15\n",
      "16\n",
      "17\n",
      "18\n",
      "19\n",
      "20\n",
      "21\n",
      "22\n",
      "23\n",
      "24\n"
     ]
    }
   ],
   "source": [
    "for i in range(0,25):\n",
    "    print(i)\n",
    "    b += 1\n",
    "    if a > 15:\n",
    "        req = True\n",
    " #scroll down   "
   ]
  },
  {
   "cell_type": "markdown",
   "metadata": {},
   "source": [
    "ok so our loop is going through our range for 25 iterations so our problem is not with the loop itself. So next we will test whether b is reaching our desired point."
   ]
  },
  {
   "cell_type": "code",
   "execution_count": 39,
   "metadata": {},
   "outputs": [],
   "source": [
    "b = 0\n",
    "req = False"
   ]
  },
  {
   "cell_type": "code",
   "execution_count": 40,
   "metadata": {},
   "outputs": [
    {
     "name": "stdout",
     "output_type": "stream",
     "text": [
      "1\n",
      "2\n",
      "3\n",
      "4\n",
      "5\n",
      "6\n",
      "7\n",
      "8\n",
      "9\n",
      "10\n",
      "11\n",
      "12\n",
      "13\n",
      "14\n",
      "15\n",
      "16\n",
      "17\n",
      "18\n",
      "19\n",
      "20\n",
      "21\n",
      "22\n",
      "23\n",
      "24\n",
      "25\n"
     ]
    }
   ],
   "source": [
    "for i in range(0,25):\n",
    "    b += 1\n",
    "    print(b)\n",
    "    if a > 15:\n",
    "        req = True\n",
    " #scroll down   "
   ]
  },
  {
   "cell_type": "code",
   "execution_count": 41,
   "metadata": {},
   "outputs": [
    {
     "data": {
      "text/plain": [
       "False"
      ]
     },
     "execution_count": 41,
     "metadata": {},
     "output_type": "execute_result"
    }
   ],
   "source": [
    "req"
   ]
  },
  {
   "cell_type": "markdown",
   "metadata": {},
   "source": [
    "Ok so b is reaching 15 like we want it to but our req is not being changed so the last thing we can do is run a print statement in our if statement to check if it is happening."
   ]
  },
  {
   "cell_type": "code",
   "execution_count": 44,
   "metadata": {},
   "outputs": [],
   "source": [
    "b = 0\n",
    "req = False"
   ]
  },
  {
   "cell_type": "code",
   "execution_count": 45,
   "metadata": {},
   "outputs": [],
   "source": [
    "for i in range(0,25):\n",
    "    b += 1\n",
    "    if a > 15:\n",
    "        print(\"It's Happening\")\n",
    "        req = True\n",
    " #scroll down   "
   ]
  },
  {
   "cell_type": "markdown",
   "metadata": {},
   "source": [
    "So we never saw it's happening get printed so our if statement was never triggered which means our problem is with the if statement. Checking this we see immediately that we were testing a instead of b. Whoops!"
   ]
  },
  {
   "cell_type": "code",
   "execution_count": 49,
   "metadata": {},
   "outputs": [],
   "source": [
    "b = 0\n",
    "req = False"
   ]
  },
  {
   "cell_type": "code",
   "execution_count": 50,
   "metadata": {},
   "outputs": [
    {
     "name": "stdout",
     "output_type": "stream",
     "text": [
      "It's Happening\n",
      "It's Happening\n",
      "It's Happening\n",
      "It's Happening\n",
      "It's Happening\n",
      "It's Happening\n",
      "It's Happening\n",
      "It's Happening\n",
      "It's Happening\n",
      "It's Happening\n"
     ]
    }
   ],
   "source": [
    "for i in range(0,25):\n",
    "    b += 1\n",
    "    if b > 15:\n",
    "        print(\"It's Happening\")\n",
    "        req = True\n",
    " #scroll down   "
   ]
  },
  {
   "cell_type": "code",
   "execution_count": 51,
   "metadata": {},
   "outputs": [
    {
     "data": {
      "text/plain": [
       "True"
      ]
     },
     "execution_count": 51,
     "metadata": {},
     "output_type": "execute_result"
    }
   ],
   "source": [
    "req"
   ]
  },
  {
   "cell_type": "markdown",
   "metadata": {},
   "source": [
    "Hey there we go! it works. Although our if statement is being triggered multiple times because our b is above 15 constantly, whether you want this to happen depends on the function. In this case our b is only increasing so once it's hit 16 it will always be above 15 and we don't need to change req every time."
   ]
  },
  {
   "cell_type": "code",
   "execution_count": 52,
   "metadata": {},
   "outputs": [],
   "source": [
    "b = 0\n",
    "req = False"
   ]
  },
  {
   "cell_type": "code",
   "execution_count": 53,
   "metadata": {},
   "outputs": [
    {
     "name": "stdout",
     "output_type": "stream",
     "text": [
      "It's Happening\n"
     ]
    }
   ],
   "source": [
    "for i in range(0,25):\n",
    "    b += 1\n",
    "    if b == 16:\n",
    "        print(\"It's Happening\")\n",
    "        req = True\n",
    " #scroll down   "
   ]
  },
  {
   "cell_type": "code",
   "execution_count": 54,
   "metadata": {},
   "outputs": [
    {
     "data": {
      "text/plain": [
       "True"
      ]
     },
     "execution_count": 54,
     "metadata": {},
     "output_type": "execute_result"
    }
   ],
   "source": [
    "req"
   ]
  },
  {
   "cell_type": "markdown",
   "metadata": {},
   "source": [
    "And there we go, we used a print statement to debug the problem and to make our command more efficient. Print statements are fantastic and if you don't know what is wrong it is good to put in a print statement. It often tells you how far your code got to before it broke. "
   ]
  },
  {
   "cell_type": "markdown",
   "metadata": {},
   "source": [
    "The final skill in debugging that you need to master is the art of googling things effectively. 90% of the difference between you and the person who fixes your code or computer is the ability to google things effectively. Generally speaking any problem you have encountered has been encountered by people in the past. So being able to efectively google things is the skill here."
   ]
  },
  {
   "cell_type": "code",
   "execution_count": 55,
   "metadata": {},
   "outputs": [],
   "source": [
    "import numpy as np"
   ]
  },
  {
   "cell_type": "code",
   "execution_count": 58,
   "metadata": {},
   "outputs": [
    {
     "ename": "ValueError",
     "evalue": "only 2 non-keyword arguments accepted",
     "output_type": "error",
     "traceback": [
      "\u001b[1;31m---------------------------------------------------------------------------\u001b[0m",
      "\u001b[1;31mValueError\u001b[0m                                Traceback (most recent call last)",
      "\u001b[1;32m<ipython-input-58-377a9dcbb65e>\u001b[0m in \u001b[0;36m<module>\u001b[1;34m()\u001b[0m\n\u001b[1;32m----> 1\u001b[1;33m \u001b[0mnp\u001b[0m\u001b[1;33m.\u001b[0m\u001b[0marray\u001b[0m\u001b[1;33m(\u001b[0m\u001b[1;36m1\u001b[0m\u001b[1;33m,\u001b[0m\u001b[1;36m2\u001b[0m\u001b[1;33m,\u001b[0m\u001b[1;36m3\u001b[0m\u001b[1;33m,\u001b[0m\u001b[1;36m4\u001b[0m\u001b[1;33m,\u001b[0m\u001b[1;36m5\u001b[0m\u001b[1;33m)\u001b[0m\u001b[1;33m\u001b[0m\u001b[0m\n\u001b[0m",
      "\u001b[1;31mValueError\u001b[0m: only 2 non-keyword arguments accepted"
     ]
    }
   ],
   "source": [
    "np.array(1,2,3,4,5)"
   ]
  },
  {
   "cell_type": "markdown",
   "metadata": {},
   "source": [
    "So here we have a function specific error that we might want to google. But we can get dramatically different results. If I google. \"Why won't my numpy array work\" I get https://stackoverflow.com/questions/13282778/why-doesnt-the-shape-of-my-numpy-array-change this as my top result. This is completely irrelevant to what I'm trying to do other than that it deals with numpy arrays. I can try and be a bit more specific and google \"numpy array arguments accepted\". My top result is the numpy documentation https://docs.scipy.org/doc/numpy-1.15.1/reference/generated/numpy.array.html which more than likely I can use to find an answer by reading through it. However the best thing to do is just to google our error.  \"numpy only 2 non-keyword arguments accepted\" I get this https://stackoverflow.com/questions/42891965/numpy-python-array-value-error as the top result. If I click on this the first and best answer is immediately\n",
    "\n",
    "\"Answered by @hpaulj and @ForceBru in the comments. Missing a set of [] brackets.\n",
    "\n",
    "np.array([ your lists ])\"\n",
    "\n",
    "Which tells us exactly where we went wrong."
   ]
  },
  {
   "cell_type": "code",
   "execution_count": 60,
   "metadata": {},
   "outputs": [
    {
     "data": {
      "text/plain": [
       "array([1, 2, 3, 4, 5])"
      ]
     },
     "execution_count": 60,
     "metadata": {},
     "output_type": "execute_result"
    }
   ],
   "source": [
    "np.array([1,2,3,4,5])"
   ]
  },
  {
   "cell_type": "markdown",
   "metadata": {},
   "source": [
    "Generally speaking googling your error with exactly maybe with a couple of key words such as the language e.g python and the package you are using will yield the best results. "
   ]
  }
 ],
 "metadata": {
  "kernelspec": {
   "display_name": "Python 3",
   "language": "python",
   "name": "python3"
  },
  "language_info": {
   "codemirror_mode": {
    "name": "ipython",
    "version": 3
   },
   "file_extension": ".py",
   "mimetype": "text/x-python",
   "name": "python",
   "nbconvert_exporter": "python",
   "pygments_lexer": "ipython3",
   "version": "3.7.0"
  }
 },
 "nbformat": 4,
 "nbformat_minor": 2
}
