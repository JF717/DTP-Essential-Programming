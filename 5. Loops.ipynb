{
 "cells": [
  {
   "cell_type": "markdown",
   "metadata": {},
   "source": [
    "## Loops"
   ]
  },
  {
   "cell_type": "markdown",
   "metadata": {},
   "source": [
    "The next stage of programming is to learn how to use loops. Loops are an essential part of programming and even more essential to data science and scientific computing. When we deal with data or even big data we often want to go through every piece of data and do things to it. This requires loops. \n",
    "\n",
    "\n",
    "Loops are when you run a segment of code repetitively.\n",
    "\n",
    "The two main forms of loop are the while loop and the for loop. \n",
    "\n",
    "The while loop runs a loop indefinitely until a specific circumstance is met e.g. run this loop until the counter reaches 100.\n",
    "\n",
    "A for loop is a loop that is run FOR a specific number of iterations. e.g. run this loop 100 times. Or in many cases run this loop the number of times as the length of the data frame."
   ]
  },
  {
   "cell_type": "code",
   "execution_count": 2,
   "metadata": {},
   "outputs": [],
   "source": [
    "a = 1"
   ]
  },
  {
   "cell_type": "code",
   "execution_count": 4,
   "metadata": {},
   "outputs": [],
   "source": [
    "while a < 100:\n",
    "    print(a)\n",
    "    a = a + 1"
   ]
  },
  {
   "cell_type": "markdown",
   "metadata": {},
   "source": [
    "This is a very simple while loop that keeps running until a is over 100. In nearly all situations you will generally be using a for loop but it is good practice to learn how while loops work.\n",
    "\n",
    "Lets try something from the numpy package. Within it is a random number generator."
   ]
  },
  {
   "cell_type": "code",
   "execution_count": 2,
   "metadata": {},
   "outputs": [],
   "source": [
    "import numpy as np"
   ]
  },
  {
   "cell_type": "code",
   "execution_count": 3,
   "metadata": {},
   "outputs": [
    {
     "data": {
      "text/plain": [
       "47"
      ]
     },
     "execution_count": 3,
     "metadata": {},
     "output_type": "execute_result"
    }
   ],
   "source": [
    "np.random.randint(50)"
   ]
  },
  {
   "cell_type": "markdown",
   "metadata": {},
   "source": [
    "This is a function that generated a random number between 0 and whatever number you specify in the brackets. "
   ]
  },
  {
   "cell_type": "code",
   "execution_count": 4,
   "metadata": {},
   "outputs": [],
   "source": [
    "rand = np.random.randint(50)"
   ]
  },
  {
   "cell_type": "code",
   "execution_count": 5,
   "metadata": {},
   "outputs": [
    {
     "name": "stdout",
     "output_type": "stream",
     "text": [
      "45\n",
      "1\n",
      "0\n",
      "39\n",
      "17\n",
      "34\n",
      "46\n",
      "43\n",
      "23\n",
      "31\n",
      "40\n",
      "15\n",
      "16\n",
      "19\n",
      "6\n",
      "34\n",
      "46\n",
      "1\n",
      "12\n",
      "21\n",
      "46\n",
      "42\n",
      "41\n",
      "39\n",
      "36\n",
      "22\n",
      "33\n",
      "27\n",
      "48\n",
      "7\n",
      "9\n",
      "26\n",
      "16\n",
      "23\n",
      "34\n",
      "24\n",
      "49\n",
      "44\n",
      "48\n",
      "8\n",
      "36\n",
      "21\n",
      "28\n",
      "48\n",
      "33\n",
      "6\n",
      "37\n",
      "17\n",
      "6\n",
      "41\n",
      "35\n",
      "22\n",
      "2\n",
      "2\n",
      "45\n",
      "32\n",
      "9\n"
     ]
    }
   ],
   "source": [
    "while rand != 25:\n",
    "    print(rand)\n",
    "    rand = np.random.randint(50)"
   ]
  },
  {
   "cell_type": "markdown",
   "metadata": {},
   "source": [
    "This while loop generated random numbers until it hit the number we wanted. Try increasing the number range from which it can generate random numbers from."
   ]
  },
  {
   "cell_type": "code",
   "execution_count": null,
   "metadata": {},
   "outputs": [],
   "source": []
  },
  {
   "cell_type": "code",
   "execution_count": null,
   "metadata": {},
   "outputs": [],
   "source": []
  },
  {
   "cell_type": "markdown",
   "metadata": {},
   "source": [
    "Next we will try out a for loop. You generally specify the sequence over which the loop will run."
   ]
  },
  {
   "cell_type": "code",
   "execution_count": 8,
   "metadata": {},
   "outputs": [
    {
     "name": "stdout",
     "output_type": "stream",
     "text": [
      "0\n",
      "1\n",
      "2\n",
      "3\n",
      "4\n",
      "5\n",
      "6\n",
      "7\n",
      "8\n",
      "9\n",
      "10\n",
      "11\n",
      "12\n",
      "13\n",
      "14\n",
      "15\n",
      "16\n",
      "17\n",
      "18\n",
      "19\n"
     ]
    }
   ],
   "source": [
    "for i in range(20):\n",
    "    print(i)"
   ]
  },
  {
   "cell_type": "markdown",
   "metadata": {},
   "source": [
    "We can run this over a specified range."
   ]
  },
  {
   "cell_type": "code",
   "execution_count": 10,
   "metadata": {},
   "outputs": [
    {
     "name": "stdout",
     "output_type": "stream",
     "text": [
      "20\n",
      "21\n",
      "22\n",
      "23\n",
      "24\n"
     ]
    }
   ],
   "source": [
    "for i in range(20,25):\n",
    "    print(i)"
   ]
  },
  {
   "cell_type": "markdown",
   "metadata": {},
   "source": [
    "Remember python indexing starts at 0 so if you want to get up to a specified number you need to go one beyond it."
   ]
  },
  {
   "cell_type": "code",
   "execution_count": 12,
   "metadata": {},
   "outputs": [
    {
     "name": "stdout",
     "output_type": "stream",
     "text": [
      "20\n",
      "21\n",
      "22\n",
      "23\n",
      "24\n",
      "25\n"
     ]
    }
   ],
   "source": [
    "for i in range(20,26):\n",
    "    print(i)"
   ]
  },
  {
   "cell_type": "markdown",
   "metadata": {},
   "source": [
    "We can use for loops to iterate through data. Lets create a numpy array of some data. \n",
    "\n",
    "range() is a function that creates a sequence of numbers between the two specified inputs"
   ]
  },
  {
   "cell_type": "code",
   "execution_count": 20,
   "metadata": {},
   "outputs": [],
   "source": [
    "arr = np.array([1,2,3,4,5,6,7,8,9,10])"
   ]
  },
  {
   "cell_type": "code",
   "execution_count": 22,
   "metadata": {},
   "outputs": [],
   "source": [
    "for i in range(0,len(arr)):\n",
    "    arr[i] = arr[i] + 1"
   ]
  },
  {
   "cell_type": "code",
   "execution_count": 23,
   "metadata": {},
   "outputs": [
    {
     "data": {
      "text/plain": [
       "array([ 2,  3,  4,  5,  6,  7,  8,  9, 10, 11])"
      ]
     },
     "execution_count": 23,
     "metadata": {},
     "output_type": "execute_result"
    }
   ],
   "source": [
    "arr"
   ]
  },
  {
   "cell_type": "markdown",
   "metadata": {},
   "source": [
    "len() is a function that simply tests the length of an object like an array. So we asked the for loop to iterate in a sequence between 0 and the length of our array, so it would cover every value within the array. \n",
    "\n",
    "In this case we have gone through the entire array and added 1 to each value.\n",
    "\n",
    "Try creating an array between 20 and 40 and then multiplying every value by 2."
   ]
  },
  {
   "cell_type": "code",
   "execution_count": null,
   "metadata": {},
   "outputs": [],
   "source": []
  },
  {
   "cell_type": "code",
   "execution_count": null,
   "metadata": {},
   "outputs": [],
   "source": []
  },
  {
   "cell_type": "code",
   "execution_count": null,
   "metadata": {},
   "outputs": [],
   "source": []
  },
  {
   "cell_type": "markdown",
   "metadata": {},
   "source": [
    "We can combine loops and if statements to create something more akin to an actual programme."
   ]
  },
  {
   "cell_type": "code",
   "execution_count": 26,
   "metadata": {},
   "outputs": [
    {
     "name": "stdout",
     "output_type": "stream",
     "text": [
      "3\n",
      "3\n",
      "48\n",
      "23\n",
      "43\n",
      "14\n",
      "13\n",
      "34\n",
      "35\n",
      "37\n",
      "38\n",
      "15\n",
      "6\n",
      "8\n",
      "33\n",
      "23\n",
      "16\n",
      "31\n",
      "31\n",
      "25\n",
      "Bingo\n"
     ]
    }
   ],
   "source": [
    "while 1:\n",
    "    rand = np.random.randint(50)\n",
    "    print(rand)\n",
    "    if rand == 25:\n",
    "        print(\"Bingo\")\n",
    "        break"
   ]
  },
  {
   "cell_type": "markdown",
   "metadata": {},
   "source": [
    "while 1 is just an indefinite loop. We have written a loop that runs indefinitely until a certain if statement is matched. The command break ends the loop.\n",
    "\n",
    "\n",
    "For loops can also contain if statements."
   ]
  },
  {
   "cell_type": "code",
   "execution_count": 33,
   "metadata": {},
   "outputs": [
    {
     "name": "stdout",
     "output_type": "stream",
     "text": [
      "0\n",
      "Even\n",
      "1\n",
      "Odd\n",
      "2\n",
      "Even\n",
      "3\n",
      "Odd\n",
      "4\n",
      "Even\n",
      "5\n",
      "Odd\n",
      "6\n",
      "Even\n",
      "7\n",
      "Odd\n",
      "8\n",
      "Even\n",
      "9\n",
      "Odd\n",
      "10\n",
      "Even\n",
      "11\n",
      "Odd\n",
      "12\n",
      "Even\n",
      "13\n",
      "Odd\n",
      "14\n",
      "Even\n",
      "15\n",
      "Odd\n",
      "16\n",
      "Even\n",
      "17\n",
      "Odd\n",
      "18\n",
      "Even\n",
      "19\n",
      "Odd\n",
      "20\n",
      "Even\n",
      "21\n",
      "Odd\n",
      "22\n",
      "Even\n",
      "23\n",
      "Odd\n",
      "24\n",
      "Even\n"
     ]
    }
   ],
   "source": [
    "for i in range(0,25):\n",
    "    print(i)\n",
    "    if i & 1:\n",
    "        print(\"Odd\")\n",
    "    else:\n",
    "        print(\"Even\")"
   ]
  },
  {
   "cell_type": "markdown",
   "metadata": {},
   "source": [
    "This is a simple for loop that runs for 25 iterations and tests if the number is odd or even using the bitewise operator &."
   ]
  },
  {
   "cell_type": "markdown",
   "metadata": {},
   "source": [
    "As an exercise try generating an array of numbers between 0 to 20. Run a loop through the array adding a random number to the array. If the result is larger than 35 end the loop. if it gets to 10 print a statement that says half way."
   ]
  },
  {
   "cell_type": "code",
   "execution_count": null,
   "metadata": {},
   "outputs": [],
   "source": []
  },
  {
   "cell_type": "code",
   "execution_count": null,
   "metadata": {},
   "outputs": [],
   "source": []
  },
  {
   "cell_type": "code",
   "execution_count": null,
   "metadata": {},
   "outputs": [],
   "source": []
  },
  {
   "cell_type": "code",
   "execution_count": null,
   "metadata": {},
   "outputs": [],
   "source": []
  },
  {
   "cell_type": "code",
   "execution_count": null,
   "metadata": {},
   "outputs": [],
   "source": []
  }
 ],
 "metadata": {
  "kernelspec": {
   "display_name": "Python 3",
   "language": "python",
   "name": "python3"
  },
  "language_info": {
   "codemirror_mode": {
    "name": "ipython",
    "version": 3
   },
   "file_extension": ".py",
   "mimetype": "text/x-python",
   "name": "python",
   "nbconvert_exporter": "python",
   "pygments_lexer": "ipython3",
   "version": "3.6.5"
  }
 },
 "nbformat": 4,
 "nbformat_minor": 2
}
