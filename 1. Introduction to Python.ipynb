{
 "cells": [
  {
   "cell_type": "markdown",
   "metadata": {},
   "source": [
    "## Introduction to Programming\n",
    "\n",
    "\n",
    "\n",
    "Welcome to the wonderfull world of programming. Programming and knowing a programming language is one of the most useful, employable and transferable skills you can have. Many of you will already have some coding experience either doing statistics in R or maybe using Matlab. Here you will learn from the foundations some of the core coding skills that you will need for scientific computing and will give you a firm grounding in the fundementals of programming which can dramtically help with career advancement"
   ]
  },
  {
   "cell_type": "markdown",
   "metadata": {},
   "source": [
    "Programming is all about logic, you provide logical instructions to the computer in the programming language and it gives you an output... hopefully the one you want.\n",
    "\n",
    "A lot of programming uses words logic that we would find familiar if maybe a bit formal:\n",
    "\n",
    "\"Do this, then do that\"\n",
    "\n",
    "\"IF this, do this\"\n",
    "\n",
    "A useful tool in programming is to write out what you want to do in english or half code half english and then put the correct code into it. This is called pseudo code."
   ]
  },
  {
   "cell_type": "markdown",
   "metadata": {},
   "source": [
    "We will be using a language called Python. Python is an interpreted high level programming language. Interpreted means that programs written in python are not compiled so can be run line by line, and high level means that it does not have similar syntax to the base programming code of the computer like c++. \n",
    "\n",
    "We will start with some basic pseudo code for what we want and see if it works. I want the computer to say hello to me."
   ]
  },
  {
   "cell_type": "code",
   "execution_count": 7,
   "metadata": {},
   "outputs": [
    {
     "ename": "SyntaxError",
     "evalue": "invalid syntax (<ipython-input-7-5cb20dbb486a>, line 1)",
     "output_type": "error",
     "traceback": [
      "\u001b[1;36m  File \u001b[1;32m\"<ipython-input-7-5cb20dbb486a>\"\u001b[1;36m, line \u001b[1;32m1\u001b[0m\n\u001b[1;33m    say hello\u001b[0m\n\u001b[1;37m            ^\u001b[0m\n\u001b[1;31mSyntaxError\u001b[0m\u001b[1;31m:\u001b[0m invalid syntax\n"
     ]
    }
   ],
   "source": [
    "say hello"
   ]
  },
  {
   "cell_type": "markdown",
   "metadata": {},
   "source": [
    "Well that isn't anything...\n",
    "\n",
    "To do anything in python it needs to be a defined function or object meaning that it must be known in the python language. You can't just make up a word in english and expect people to understand it. In this case say is not a word that python knows.\n",
    "\n",
    "So we will be using functions to perform tasks.\n",
    "\n",
    "When it comes to programming to start with a lot of the hard work has been done for us in that it comes with a wide range of in built functions and other nice people have done lots of work building libraries with functions they have written.\n",
    "\n",
    "We will start with the print function"
   ]
  },
  {
   "cell_type": "code",
   "execution_count": 3,
   "metadata": {},
   "outputs": [
    {
     "name": "stdout",
     "output_type": "stream",
     "text": [
      "Hello\n"
     ]
    }
   ],
   "source": [
    "print(\"Hello\")"
   ]
  },
  {
   "cell_type": "markdown",
   "metadata": {},
   "source": [
    "You said hello to the computer and it said it back... while in reality what you did was use a base python function print. This function just prints out into the terminal whatever you tell it to. It is probably the single most useful function for error checking your work. \n",
    "\n",
    "Functions in python are like functions in maths. You have an input the function is applied to and then the output is given to you. \n",
    "\n",
    "In python the input of a function has to be specified in brackets attached to that function so print(input) applies the print function of writing out into the terminal to whatever is inside the brackets.\n",
    "\n",
    "In this case we got it to print the word Hello however if we tried it without the \"\" would it work?"
   ]
  },
  {
   "cell_type": "code",
   "execution_count": 8,
   "metadata": {},
   "outputs": [
    {
     "ename": "NameError",
     "evalue": "name 'Hello' is not defined",
     "output_type": "error",
     "traceback": [
      "\u001b[1;31m---------------------------------------------------------------------------\u001b[0m",
      "\u001b[1;31mNameError\u001b[0m                                 Traceback (most recent call last)",
      "\u001b[1;32m<ipython-input-8-b7be8ca2a54e>\u001b[0m in \u001b[0;36m<module>\u001b[1;34m()\u001b[0m\n\u001b[1;32m----> 1\u001b[1;33m \u001b[0mprint\u001b[0m\u001b[1;33m(\u001b[0m\u001b[0mHello\u001b[0m\u001b[1;33m)\u001b[0m\u001b[1;33m\u001b[0m\u001b[0m\n\u001b[0m",
      "\u001b[1;31mNameError\u001b[0m: name 'Hello' is not defined"
     ]
    }
   ],
   "source": [
    "print(Hello)"
   ]
  },
  {
   "cell_type": "markdown",
   "metadata": {},
   "source": [
    "It says Hello is not defined. This means that it doesn't know what Hello is. It thinks it is an object or a function and cannot find it. When we put things in \"\" python knows that it is text and treats it as such so you can make it print anything in \"\"."
   ]
  },
  {
   "cell_type": "code",
   "execution_count": 11,
   "metadata": {},
   "outputs": [
    {
     "name": "stdout",
     "output_type": "stream",
     "text": [
      "anything\n"
     ]
    }
   ],
   "source": [
    "print(\"anything\")"
   ]
  },
  {
   "cell_type": "code",
   "execution_count": 13,
   "metadata": {},
   "outputs": [
    {
     "name": "stdout",
     "output_type": "stream",
     "text": [
      "Whatever you want can go inside quotation marks\n"
     ]
    }
   ],
   "source": [
    "print(\"Whatever you want can go inside quotation marks\")"
   ]
  },
  {
   "cell_type": "code",
   "execution_count": 15,
   "metadata": {},
   "outputs": [
    {
     "name": "stdout",
     "output_type": "stream",
     "text": [
      "beep boop I'm a computer\n"
     ]
    }
   ],
   "source": [
    "print(\"beep boop I'm a computer\")"
   ]
  },
  {
   "cell_type": "markdown",
   "metadata": {},
   "source": [
    "There are numerous functions in python that can be used but the point of programming is to combine the functions that exist into a program that you want. Like combining words into a sentence."
   ]
  },
  {
   "cell_type": "markdown",
   "metadata": {},
   "source": [
    "Python has a huge variety of functions within it and available through other people's hard work. \n",
    "\n",
    "Another fundimental part of python is expressions - most simply these are mathematical expressions where python comes with it's own inbuilt maths solver."
   ]
  },
  {
   "cell_type": "code",
   "execution_count": 17,
   "metadata": {},
   "outputs": [
    {
     "data": {
      "text/plain": [
       "2"
      ]
     },
     "execution_count": 17,
     "metadata": {},
     "output_type": "execute_result"
    }
   ],
   "source": [
    "1 + 1"
   ]
  },
  {
   "cell_type": "markdown",
   "metadata": {},
   "source": [
    "This is a simple mathematical expression - an expression is a segment of code which is made up of values (numbers) and operators (+) which are in themselves a form of function. Python then evaluates this expression in that it will eventually reduce down to just a single output. \n",
    "\n",
    "Expressions can look complex being made of many values and operators."
   ]
  },
  {
   "cell_type": "code",
   "execution_count": 19,
   "metadata": {},
   "outputs": [
    {
     "data": {
      "text/plain": [
       "-32682.733333333334"
      ]
     },
     "execution_count": 19,
     "metadata": {},
     "output_type": "execute_result"
    }
   ],
   "source": [
    "(5*17) + (12/45) - (32 ** 3)"
   ]
  },
  {
   "cell_type": "markdown",
   "metadata": {},
   "source": [
    "essentially python is iteratively solving things based on BODMAS \n",
    "\n",
    "(5*17) + (12/45) - (32 ** 3)\n",
    "\n",
    "85 + 0.266666 - 32768\n",
    "\n",
    "-32682.733333333334\n",
    "\n",
    "There are a number of operators within python:\n",
    "\n",
    "Addition +\n",
    "\n",
    "Subtraction -\n",
    "\n",
    "Division /\n",
    "\n",
    "Multiplication *\n",
    "\n",
    "Exponent **\n",
    "\n",
    "You will learn more over time.\n",
    "\n"
   ]
  },
  {
   "cell_type": "markdown",
   "metadata": {},
   "source": [
    "The next thing to start learning is the types of data. Python is very sensitive to the type of data that is being dealt with. Applying functions to a data type that it does not expect will give an error. \n",
    "\n",
    "There are numerous types within python we will cover some of the basic types here. \n",
    "\n",
    "We have already seen a couple types and we will go over what they were\n",
    "\n",
    "\"Hello\"\n",
    "\n",
    "This is plain text and as such is being treated as the type String - this just means that it is a series of characters."
   ]
  },
  {
   "cell_type": "code",
   "execution_count": 25,
   "metadata": {},
   "outputs": [
    {
     "data": {
      "text/plain": [
       "str"
      ]
     },
     "execution_count": 25,
     "metadata": {},
     "output_type": "execute_result"
    }
   ],
   "source": [
    "type(\"Hello\")"
   ]
  },
  {
   "cell_type": "markdown",
   "metadata": {},
   "source": [
    "The function type is a very simple function which tells you the type that the input is.\n",
    "\n",
    "Strings are a very useful type of object, they are used for when anything is plain text words, commonly being used right now for website scraping etc. You can extrac portions of strings or combine them to make sentences etc. They are generally used for outputs during work flow.\n"
   ]
  },
  {
   "cell_type": "code",
   "execution_count": 32,
   "metadata": {},
   "outputs": [
    {
     "data": {
      "text/plain": [
       "'HelloWorld'"
      ]
     },
     "execution_count": 32,
     "metadata": {},
     "output_type": "execute_result"
    }
   ],
   "source": [
    "\"Hello\" + \"World\""
   ]
  },
  {
   "cell_type": "markdown",
   "metadata": {},
   "source": [
    "See we can combine strings to make more strings. "
   ]
  },
  {
   "cell_type": "code",
   "execution_count": 31,
   "metadata": {},
   "outputs": [
    {
     "ename": "TypeError",
     "evalue": "can't multiply sequence by non-int of type 'str'",
     "output_type": "error",
     "traceback": [
      "\u001b[1;31m---------------------------------------------------------------------------\u001b[0m",
      "\u001b[1;31mTypeError\u001b[0m                                 Traceback (most recent call last)",
      "\u001b[1;32m<ipython-input-31-367429682588>\u001b[0m in \u001b[0;36m<module>\u001b[1;34m()\u001b[0m\n\u001b[1;32m----> 1\u001b[1;33m \u001b[1;34m\"Hello\"\u001b[0m \u001b[1;33m*\u001b[0m \u001b[1;34m\"World\"\u001b[0m\u001b[1;33m\u001b[0m\u001b[0m\n\u001b[0m",
      "\u001b[1;31mTypeError\u001b[0m: can't multiply sequence by non-int of type 'str'"
     ]
    }
   ],
   "source": [
    "\"Hello\" * \"World\""
   ]
  },
  {
   "cell_type": "markdown",
   "metadata": {},
   "source": [
    "However this is the only opperator that we can apply to strings. \n",
    "\n",
    "The next type of data we will look at is the integer. As with maths integers are non decimal numbers. "
   ]
  },
  {
   "cell_type": "code",
   "execution_count": 47,
   "metadata": {},
   "outputs": [
    {
     "data": {
      "text/plain": [
       "int"
      ]
     },
     "execution_count": 47,
     "metadata": {},
     "output_type": "execute_result"
    }
   ],
   "source": [
    "type(1)"
   ]
  },
  {
   "cell_type": "markdown",
   "metadata": {},
   "source": [
    "int is short for type integer. This type is generally used for numbers but the important thing to remember is that if it is an integer it cannot contain decimals."
   ]
  },
  {
   "cell_type": "code",
   "execution_count": 36,
   "metadata": {},
   "outputs": [
    {
     "data": {
      "text/plain": [
       "float"
      ]
     },
     "execution_count": 36,
     "metadata": {},
     "output_type": "execute_result"
    }
   ],
   "source": [
    "type(1.4)"
   ]
  },
  {
   "cell_type": "markdown",
   "metadata": {},
   "source": [
    "When there are decimals within the numbers it becomes type float. Float is generally the most common numeric type you will be using as it allows decimals. \n",
    "\n",
    "The next type is a boolean - a boolean is a true or false value, booleans are generally used for checking if things are a certain way in an if statement etc."
   ]
  },
  {
   "cell_type": "code",
   "execution_count": 40,
   "metadata": {},
   "outputs": [
    {
     "data": {
      "text/plain": [
       "bool"
      ]
     },
     "execution_count": 40,
     "metadata": {},
     "output_type": "execute_result"
    }
   ],
   "source": [
    "type(True)"
   ]
  },
  {
   "cell_type": "markdown",
   "metadata": {},
   "source": [
    "The next type we will look at is the list. Lists are basically a vector of different values combined into one. "
   ]
  },
  {
   "cell_type": "code",
   "execution_count": 46,
   "metadata": {},
   "outputs": [
    {
     "data": {
      "text/plain": [
       "list"
      ]
     },
     "execution_count": 46,
     "metadata": {},
     "output_type": "execute_result"
    }
   ],
   "source": [
    "type([1,2,3])"
   ]
  },
  {
   "cell_type": "markdown",
   "metadata": {},
   "source": [
    "Lists are used when you need to store multiple variables in one place and need to be able to manipulate them individually. Often you will make lists out of other data you have been handling such as integers or floats. \n",
    "\n",
    "Try and see what you can do with data types. See if you can combine types make lists etc. just play around with the type() command putting different things into them."
   ]
  },
  {
   "cell_type": "code",
   "execution_count": null,
   "metadata": {},
   "outputs": [],
   "source": []
  },
  {
   "cell_type": "code",
   "execution_count": null,
   "metadata": {},
   "outputs": [],
   "source": []
  },
  {
   "cell_type": "code",
   "execution_count": null,
   "metadata": {},
   "outputs": [],
   "source": []
  },
  {
   "cell_type": "code",
   "execution_count": null,
   "metadata": {},
   "outputs": [],
   "source": []
  },
  {
   "cell_type": "code",
   "execution_count": null,
   "metadata": {},
   "outputs": [],
   "source": []
  },
  {
   "cell_type": "code",
   "execution_count": null,
   "metadata": {},
   "outputs": [],
   "source": []
  },
  {
   "cell_type": "code",
   "execution_count": null,
   "metadata": {},
   "outputs": [],
   "source": []
  },
  {
   "cell_type": "code",
   "execution_count": null,
   "metadata": {},
   "outputs": [],
   "source": []
  },
  {
   "cell_type": "code",
   "execution_count": null,
   "metadata": {},
   "outputs": [],
   "source": []
  },
  {
   "cell_type": "code",
   "execution_count": null,
   "metadata": {},
   "outputs": [],
   "source": []
  }
 ],
 "metadata": {
  "kernelspec": {
   "display_name": "Python 3",
   "language": "python",
   "name": "python3"
  },
  "language_info": {
   "codemirror_mode": {
    "name": "ipython",
    "version": 3
   },
   "file_extension": ".py",
   "mimetype": "text/x-python",
   "name": "python",
   "nbconvert_exporter": "python",
   "pygments_lexer": "ipython3",
   "version": "3.6.1"
  }
 },
 "nbformat": 4,
 "nbformat_minor": 2
}
