{
 "cells": [
  {
   "cell_type": "markdown",
   "metadata": {},
   "source": [
    "## Writing Your Own Functions"
   ]
  },
  {
   "cell_type": "markdown",
   "metadata": {},
   "source": [
    "So far we have gained an understanding of how to use other people's functions, writing our own loops and putting logical statements within them. \n",
    "\n",
    "The next step is to learn how to write your own functions which can then be applied to anything we put into them. In simple ones it is no different than what we have already done just reusable."
   ]
  },
  {
   "cell_type": "code",
   "execution_count": 10,
   "metadata": {},
   "outputs": [],
   "source": [
    "def printing(x):\n",
    "    print(x)"
   ]
  },
  {
   "cell_type": "code",
   "execution_count": 12,
   "metadata": {},
   "outputs": [
    {
     "name": "stdout",
     "output_type": "stream",
     "text": [
      "Hello\n"
     ]
    }
   ],
   "source": [
    "printing(\"Hello\")"
   ]
  },
  {
   "cell_type": "markdown",
   "metadata": {},
   "source": [
    "This is the simplest and most redundant function ever to be used but it is to demonstrate the principal.\n",
    "\n",
    "In essence you use def as a command to define your function. You put the function name and then the inputs your function has into the brackets:\n",
    "\n",
    "def FUNCTIONNAME (INPUT): \n",
    "    Whatever you want to do to the input\n",
    "    \n",
    "Let's try something a little bit more realistic."
   ]
  },
  {
   "cell_type": "code",
   "execution_count": 14,
   "metadata": {},
   "outputs": [],
   "source": [
    "def studentinfo(Name,Stream,College):\n",
    "    print(\"Student's name is\",Name)\n",
    "    print(\"They are in the\", Stream, \"Stream\")\n",
    "    print(\"They are studying at\", College, \"College\")"
   ]
  },
  {
   "cell_type": "code",
   "execution_count": 16,
   "metadata": {},
   "outputs": [
    {
     "name": "stdout",
     "output_type": "stream",
     "text": [
      "Student's name is Emily\n",
      "They are in the BEEP Stream\n",
      "They are studying at Brasenose College\n"
     ]
    }
   ],
   "source": [
    "studentinfo(\"Emily\",\"BEEP\",\"Brasenose\")"
   ]
  },
  {
   "cell_type": "markdown",
   "metadata": {},
   "source": [
    "Try out a bunch of student names, streams and colleges. The point is that once you have defined the function you can put whatever you want into it and it will do the same thing. It is useful if you want to reuse the same thing and don't want to write out the code every time.\n",
    "\n",
    "Generally speaking in data science / scientific computing we will be creating mathematical or analytical functions. \n",
    "\n",
    "Let's try one."
   ]
  },
  {
   "cell_type": "code",
   "execution_count": 17,
   "metadata": {},
   "outputs": [],
   "source": [
    "import numpy as np"
   ]
  },
  {
   "cell_type": "code",
   "execution_count": 34,
   "metadata": {},
   "outputs": [],
   "source": [
    "def multbyrand(x):\n",
    "    z = np.random.randint(50)\n",
    "    y = x * z\n",
    "    return(y)"
   ]
  },
  {
   "cell_type": "code",
   "execution_count": 35,
   "metadata": {},
   "outputs": [
    {
     "data": {
      "text/plain": [
       "16"
      ]
     },
     "execution_count": 35,
     "metadata": {},
     "output_type": "execute_result"
    }
   ],
   "source": [
    "multbyrand(1)"
   ]
  },
  {
   "cell_type": "code",
   "execution_count": 38,
   "metadata": {},
   "outputs": [
    {
     "data": {
      "text/plain": [
       "675"
      ]
     },
     "execution_count": 38,
     "metadata": {},
     "output_type": "execute_result"
    }
   ],
   "source": [
    "multbyrand(15)"
   ]
  },
  {
   "cell_type": "code",
   "execution_count": null,
   "metadata": {},
   "outputs": [],
   "source": []
  }
 ],
 "metadata": {
  "kernelspec": {
   "display_name": "Python 3",
   "language": "python",
   "name": "python3"
  },
  "language_info": {
   "codemirror_mode": {
    "name": "ipython",
    "version": 3
   },
   "file_extension": ".py",
   "mimetype": "text/x-python",
   "name": "python",
   "nbconvert_exporter": "python",
   "pygments_lexer": "ipython3",
   "version": "3.6.5"
  }
 },
 "nbformat": 4,
 "nbformat_minor": 2
}
